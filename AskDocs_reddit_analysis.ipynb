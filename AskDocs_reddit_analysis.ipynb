{
 "cells": [
  {
   "cell_type": "code",
   "execution_count": 2,
   "id": "b37293ab-4af9-4229-8f44-e7bc0be64d00",
   "metadata": {},
   "outputs": [],
   "source": [
    "import praw\n",
    "import numpy as np\n",
    "import pandas as pd\n",
    "import networkx as nx\n"
   ]
  },
  {
   "cell_type": "code",
   "execution_count": 3,
   "id": "3bedff22-4270-49e0-940a-672b2d91a785",
   "metadata": {},
   "outputs": [],
   "source": [
    "# reddit parameters for using api\n",
    "reddit = praw.Reddit(\n",
    "    client_id = \"Ml0WipdEEPOxQpUkz1IpXA\",\n",
    "    client_secret = \"060b8giYxRkM1MnSlGWyM5iaxH861A\",\n",
    "    user_agent = \"Medicine Analysis Bot\"\n",
    ")\n",
    "    "
   ]
  },
  {
   "cell_type": "code",
   "execution_count": 4,
   "id": "072ede31-9db1-4fae-a333-06edd698d668",
   "metadata": {},
   "outputs": [],
   "source": [
    "# creation of access to subreddit posts using api\n",
    "subreddit_posts = reddit.subreddit(\"AskDocs\").top(time_filter = \"month\", limit = 10)"
   ]
  },
  {
   "cell_type": "code",
   "execution_count": 4,
   "id": "0353c538-c23a-4187-89f9-c4bb4dac4e06",
   "metadata": {},
   "outputs": [
    {
     "name": "stdout",
     "output_type": "stream",
     "text": [
      "{'Physician | Top Contributor', 'Layperson/not verified as healthcare professional', 'Physician - Cardiology ', 'Physician - Oral and Maxillofacial Surgery', 'Registered Nurse', 'Physician - Neurology', 'Physician | Moderator | Top Contributor', 'Medical Student', 'Physician | Heme/Onc', 'Registered Midwife', 'Physician - Neurosurgery', 'Physician - Pediatrics', 'Physician Assistant', 'This user has not yet been verified.', 'Physician - Family Medicine', 'Physician - Cardiology/Electrophysiology', 'Physician/Neurosurgeon', 'Physician - Critical Care', 'Pharmacy Technician', 'Physician - Anesthesiology', 'Physician', 'Physician - Internal Medicine', 'Nurse Practitioner', 'Layperson/not verified as healthcare professional.', 'Paramedic', 'Physician - Ob/Gyn', 'Midwife', 'Pharmacist', 'Physician | Emergency Medicine', 'B.S., Medical Lab Sciences'}\n"
     ]
    }
   ],
   "source": [
    "# grabbing list of flairs to be modified later for easy analysis\n",
    "flairs = set()\n",
    "for post in subreddit_posts:\n",
    "    if post.author_flair_text:\n",
    "        flairs.add(post.author_flair_text)\n",
    "    \n",
    "    post.comments.replace_more(limit=None)\n",
    "      \n",
    "    for comment in post.comments.list():\n",
    "        if comment.author_flair_text:\n",
    "            flairs.add(comment.author_flair_text)\n",
    "\n",
    "print(flairs)\n",
    "    "
   ]
  },
  {
   "cell_type": "code",
   "execution_count": 6,
   "id": "69d26e55-83ea-4993-a0c5-ee0e34b192a2",
   "metadata": {},
   "outputs": [],
   "source": [
    "# creation of directed graph\n",
    "graph = nx.DiGraph()"
   ]
  },
  {
   "cell_type": "code",
   "execution_count": 7,
   "id": "4429e15b-6f44-402c-9165-545aed3e4c55",
   "metadata": {},
   "outputs": [],
   "source": [
    "def get_flair(post_type):\n",
    "    \"\"\"\n",
    "    extracts reddit flair title from the user that posted \n",
    "    \"\"\"\n",
    "    flair = post_type.author_flair_text\n",
    "    if flair is None:\n",
    "        flair = \"No Flair\"\n",
    "    return flair"
   ]
  },
  {
   "cell_type": "code",
   "execution_count": 8,
   "id": "0d1238fd-47e3-4b2e-a517-d4d6efbf78c2",
   "metadata": {},
   "outputs": [],
   "source": [
    "def add_edge(author, poster, score):\n",
    "    \"\"\"\n",
    "    adds edge to the directed graph or checks if it exists to add score\n",
    "    \"\"\"\n",
    "    if graph.has_edge(author,poster):\n",
    "        graph[author][poster][\"weight\"] += score\n",
    "    else:\n",
    "        graph.add_edge(author,poster,weight = score)\n"
   ]
  },
  {
   "cell_type": "code",
   "execution_count": 9,
   "id": "7b734a3d-2d40-480c-acfe-652702b55265",
   "metadata": {},
   "outputs": [
    {
     "name": "stdout",
     "output_type": "stream",
     "text": [
      "Nodes: 609\n",
      "Edges: 1261\n"
     ]
    }
   ],
   "source": [
    "# accessing subreddit posts\n",
    "subreddit_posts = reddit.subreddit(\"AskDocs\").top(time_filter = \"month\", limit = 10)\n",
    "\n",
    "# main code to create graph\n",
    "for post in subreddit_posts:\n",
    "    \n",
    "    # grabs initial poster and adds a node with their flair in tact\n",
    "    initial_poster = str(post.author)\n",
    "    if initial_poster == \"None\":\n",
    "        continue   \n",
    "    init_post_flair = get_flair(post)\n",
    "    graph.add_node(initial_poster, flair = init_post_flair)\n",
    "\n",
    "    #allows grabbing of every comment in the thread\n",
    "    post.comments.replace_more(limit=None)\n",
    "    for comment in post.comments.list():\n",
    "\n",
    "        # grabs the author of a comment for each comment in the thread with their flair and score(upvotes)\n",
    "        author = str(comment.author)\n",
    "        score = comment.score\n",
    "        if author == \"None\":\n",
    "            continue\n",
    "        author_flair = get_flair(comment)\n",
    "        graph.add_node(author, flair = author_flair)\n",
    "\n",
    "        # adds edge between author and poster\n",
    "        add_edge(author,initial_poster,score)\n",
    "\n",
    "\n",
    "        # grabs each parent comment and adds with flair\n",
    "        parent_comment = comment.parent()\n",
    "        parent_commenter = str(parent_comment.author)\n",
    "        if parent_commenter == \"None\":\n",
    "            continue\n",
    "        parent_flair = get_flair(parent_comment)\n",
    "        graph.add_node(parent_commenter, flair = parent_flair)\n",
    "\n",
    "        # adds edge between author and parent commentor\n",
    "        add_edge(author, parent_commenter, score)\n",
    "\n",
    "        # removes AutoModerator from all discussions\n",
    "        for user in list(graph.nodes):\n",
    "            if user == \"AutoModerator\":\n",
    "                graph.remove_node(user)\n",
    "\n",
    "\n",
    "print(f\"Nodes: {len(graph.nodes())}\")\n",
    "print(f\"Edges: {len(graph.edges())}\")"
   ]
  },
  {
   "cell_type": "code",
   "execution_count": 10,
   "id": "82b8eab1-ac88-47fd-8d3a-5a5022a2c95d",
   "metadata": {},
   "outputs": [],
   "source": [
    "flair_map = {\n",
    "    \"Midwife\": \"Midwife\",\n",
    "    \"Registered Nurse\": \"Nurse\",\n",
    "    \"Physician - Family Medicine\": \"Physician\",\n",
    "    \"Physician\": \"Physician\",\n",
    "    \"Pharmacist\": \"Pharmacist\",\n",
    "    \"Licensed Alcohol and Drug Counselor\": \"Counselor\",\n",
    "    \"Physician - Oral and Maxillofacial Surgery\": \"Physician\",\n",
    "    \"Nurse Practitioner\": \"Nurse\",\n",
    "    \"Physician/Neurosurgeon\": \"Physician\",\n",
    "    \"Physician - Internal Medicine\": \"Physician\",\n",
    "    \"Layperson/not verified as healthcare professional\": \"Layperson\",\n",
    "    \"This user has not yet been verified.\": \"Layperson\",\n",
    "    \"B.S., Medical Lab Sciences\": \"Scientist\",\n",
    "    \"Physician | Moderator | Top Contributor\": \"Physician\",\n",
    "    \"Physician - Neurology\": \"Physician\",\n",
    "    \"Physician | Moderator\": \"Physician\",\n",
    "    \"Physician - Cardiology/Electrophysiology\": \"Physician\",\n",
    "    \"Physician Assistant\": \"Nurse\",\n",
    "    \"Physician - Pulmonology/critical care\": \"Physician\",\n",
    "    \"Medical Imaging Technologist\": \"Technologist\",\n",
    "    \"Paramedic\": \"Paramedic\",\n",
    "    \"Medical Student\": \"MedStudent\",\n",
    "    \"Pharmacy Technician\": \"Technologist\",\n",
    "    \"Physician - Pediatrics\": \"Physician\",\n",
    "    \"Layperson/not verified as healthcare professional.\": \"Layperson\",\n",
    "    \"Respiratory Therapist\": \"Therapist\",\n",
    "    \"Physician - Cardiology \": \"Physician\",\n",
    "    \"Physician - Neurosurgery\": \"Physician\",\n",
    "    \"Physician - Critical Care\": \"Physician\"\n",
    "}\n",
    " \n",
    "    "
   ]
  },
  {
   "cell_type": "code",
   "execution_count": 11,
   "id": "b3d5d0d3-4bda-487b-83cd-a90c85a18102",
   "metadata": {},
   "outputs": [],
   "source": [
    "for node, attribute in graph.nodes(data=True):\n",
    "    old_flair = attribute[\"flair\"]\n",
    "    clean_flair = flair_map.get(old_flair,\"No Flair\")\n",
    "    graph.nodes[node][\"clean_flair\"] = clean_flair"
   ]
  },
  {
   "cell_type": "code",
   "execution_count": 12,
   "id": "2ca47d97-63b6-4dae-b4dc-438bf6d96db7",
   "metadata": {},
   "outputs": [
    {
     "name": "stdout",
     "output_type": "stream",
     "text": [
      "Graph Successfully Exported to Doctor_Advice.graphml\n"
     ]
    }
   ],
   "source": [
    "nx.write_graphml(graph, \"Doctor_Advice.graphml\")\n",
    "print(\"Graph Successfully Exported to Doctor_Advice.graphml\")"
   ]
  },
  {
   "cell_type": "code",
   "execution_count": 19,
   "id": "d553c3ac-7236-48a5-b1a7-5fb4af2968a2",
   "metadata": {},
   "outputs": [
    {
     "name": "stdout",
     "output_type": "stream",
     "text": [
      "Doctor_advice.graphml Succesfully imported\n",
      "Nodes: 609\n",
      "Edges: 1261\n"
     ]
    }
   ],
   "source": [
    "graph = nx.read_graphml(\"Doctor_Advice.graphml\")\n",
    "print(\"Doctor_advice.graphml Succesfully imported\")\n",
    "\n",
    "print(f\"Nodes: {len(graph.nodes())}\")\n",
    "print(f\"Edges: {len(graph.edges())}\")"
   ]
  },
  {
   "cell_type": "code",
   "execution_count": 20,
   "id": "2e22cc2e-47ff-417c-910a-899d295940d4",
   "metadata": {},
   "outputs": [],
   "source": [
    "top_count = 10"
   ]
  },
  {
   "cell_type": "code",
   "execution_count": 21,
   "id": "c24f7850-dd7c-4bea-bc1d-ea83bf229817",
   "metadata": {},
   "outputs": [],
   "source": [
    "def centrality_metrics(list_of_users, type_of_centrality):\n",
    "    \n",
    "    for reddit_user in sorted(type_of_centrality, key = type_of_centrality.get, reverse = True)[:top_count]:\n",
    "        flair = graph.nodes[reddit_user][\"clean_flair\"]\n",
    "        centrality = type_of_centrality[reddit_user]\n",
    "    \n",
    "        list_of_users.append({\n",
    "            \"Flair\": flair,\n",
    "            \"measure\": centrality,\n",
    "        })\n",
    "    return list_of_users\n"
   ]
  },
  {
   "cell_type": "code",
   "execution_count": 22,
   "id": "adc07f20-dc24-46c0-856e-5efe3f50faf0",
   "metadata": {},
   "outputs": [
    {
     "name": "stdout",
     "output_type": "stream",
     "text": [
      "\n",
      " Top 10 Reddit Users by degree Centrality\n"
     ]
    },
    {
     "data": {
      "text/html": [
       "<div>\n",
       "<style scoped>\n",
       "    .dataframe tbody tr th:only-of-type {\n",
       "        vertical-align: middle;\n",
       "    }\n",
       "\n",
       "    .dataframe tbody tr th {\n",
       "        vertical-align: top;\n",
       "    }\n",
       "\n",
       "    .dataframe thead th {\n",
       "        text-align: right;\n",
       "    }\n",
       "</style>\n",
       "<table border=\"1\" class=\"dataframe\">\n",
       "  <thead>\n",
       "    <tr style=\"text-align: right;\">\n",
       "      <th></th>\n",
       "      <th>Flair</th>\n",
       "      <th>Degree Centrality</th>\n",
       "    </tr>\n",
       "  </thead>\n",
       "  <tbody>\n",
       "    <tr>\n",
       "      <th>0</th>\n",
       "      <td>Layperson</td>\n",
       "      <td>0.366776</td>\n",
       "    </tr>\n",
       "    <tr>\n",
       "      <th>1</th>\n",
       "      <td>Layperson</td>\n",
       "      <td>0.241776</td>\n",
       "    </tr>\n",
       "    <tr>\n",
       "      <th>2</th>\n",
       "      <td>Layperson</td>\n",
       "      <td>0.156250</td>\n",
       "    </tr>\n",
       "    <tr>\n",
       "      <th>3</th>\n",
       "      <td>Layperson</td>\n",
       "      <td>0.156250</td>\n",
       "    </tr>\n",
       "    <tr>\n",
       "      <th>4</th>\n",
       "      <td>Layperson</td>\n",
       "      <td>0.111842</td>\n",
       "    </tr>\n",
       "    <tr>\n",
       "      <th>5</th>\n",
       "      <td>Layperson</td>\n",
       "      <td>0.070724</td>\n",
       "    </tr>\n",
       "    <tr>\n",
       "      <th>6</th>\n",
       "      <td>Layperson</td>\n",
       "      <td>0.069079</td>\n",
       "    </tr>\n",
       "    <tr>\n",
       "      <th>7</th>\n",
       "      <td>Layperson</td>\n",
       "      <td>0.059211</td>\n",
       "    </tr>\n",
       "    <tr>\n",
       "      <th>8</th>\n",
       "      <td>Layperson</td>\n",
       "      <td>0.052632</td>\n",
       "    </tr>\n",
       "    <tr>\n",
       "      <th>9</th>\n",
       "      <td>Layperson</td>\n",
       "      <td>0.047697</td>\n",
       "    </tr>\n",
       "  </tbody>\n",
       "</table>\n",
       "</div>"
      ],
      "text/plain": [
       "       Flair  Degree Centrality\n",
       "0  Layperson           0.366776\n",
       "1  Layperson           0.241776\n",
       "2  Layperson           0.156250\n",
       "3  Layperson           0.156250\n",
       "4  Layperson           0.111842\n",
       "5  Layperson           0.070724\n",
       "6  Layperson           0.069079\n",
       "7  Layperson           0.059211\n",
       "8  Layperson           0.052632\n",
       "9  Layperson           0.047697"
      ]
     },
     "execution_count": 22,
     "metadata": {},
     "output_type": "execute_result"
    }
   ],
   "source": [
    "centrality_deg = nx.degree_centrality(graph)\n",
    "print(f\"\\n Top {top_count} Reddit Users by degree Centrality\")\n",
    "\n",
    "centrality_user = []\n",
    "centrality_df = pd.DataFrame(centrality_metrics(centrality_user, centrality_deg))\n",
    "centrality_df = centrality_df.rename(columns={\"measure\": \"Degree Centrality\"})\n",
    "centrality_df.head(10)"
   ]
  },
  {
   "cell_type": "code",
   "execution_count": 23,
   "id": "f05b7760-7e70-4ff8-b43d-6bbd598f0407",
   "metadata": {},
   "outputs": [
    {
     "name": "stdout",
     "output_type": "stream",
     "text": [
      "\n",
      " Top 10 Reddit Users by Pagerank\n"
     ]
    },
    {
     "data": {
      "text/html": [
       "<div>\n",
       "<style scoped>\n",
       "    .dataframe tbody tr th:only-of-type {\n",
       "        vertical-align: middle;\n",
       "    }\n",
       "\n",
       "    .dataframe tbody tr th {\n",
       "        vertical-align: top;\n",
       "    }\n",
       "\n",
       "    .dataframe thead th {\n",
       "        text-align: right;\n",
       "    }\n",
       "</style>\n",
       "<table border=\"1\" class=\"dataframe\">\n",
       "  <thead>\n",
       "    <tr style=\"text-align: right;\">\n",
       "      <th></th>\n",
       "      <th>Flair</th>\n",
       "      <th>Pagerank</th>\n",
       "    </tr>\n",
       "  </thead>\n",
       "  <tbody>\n",
       "    <tr>\n",
       "      <th>0</th>\n",
       "      <td>Layperson</td>\n",
       "      <td>0.165788</td>\n",
       "    </tr>\n",
       "    <tr>\n",
       "      <th>1</th>\n",
       "      <td>Layperson</td>\n",
       "      <td>0.106774</td>\n",
       "    </tr>\n",
       "    <tr>\n",
       "      <th>2</th>\n",
       "      <td>Layperson</td>\n",
       "      <td>0.073564</td>\n",
       "    </tr>\n",
       "    <tr>\n",
       "      <th>3</th>\n",
       "      <td>Layperson</td>\n",
       "      <td>0.059867</td>\n",
       "    </tr>\n",
       "    <tr>\n",
       "      <th>4</th>\n",
       "      <td>Layperson</td>\n",
       "      <td>0.039245</td>\n",
       "    </tr>\n",
       "    <tr>\n",
       "      <th>5</th>\n",
       "      <td>Layperson</td>\n",
       "      <td>0.032657</td>\n",
       "    </tr>\n",
       "    <tr>\n",
       "      <th>6</th>\n",
       "      <td>Layperson</td>\n",
       "      <td>0.028933</td>\n",
       "    </tr>\n",
       "    <tr>\n",
       "      <th>7</th>\n",
       "      <td>Layperson</td>\n",
       "      <td>0.026862</td>\n",
       "    </tr>\n",
       "    <tr>\n",
       "      <th>8</th>\n",
       "      <td>Layperson</td>\n",
       "      <td>0.024879</td>\n",
       "    </tr>\n",
       "    <tr>\n",
       "      <th>9</th>\n",
       "      <td>Physician</td>\n",
       "      <td>0.023820</td>\n",
       "    </tr>\n",
       "  </tbody>\n",
       "</table>\n",
       "</div>"
      ],
      "text/plain": [
       "       Flair  Pagerank\n",
       "0  Layperson  0.165788\n",
       "1  Layperson  0.106774\n",
       "2  Layperson  0.073564\n",
       "3  Layperson  0.059867\n",
       "4  Layperson  0.039245\n",
       "5  Layperson  0.032657\n",
       "6  Layperson  0.028933\n",
       "7  Layperson  0.026862\n",
       "8  Layperson  0.024879\n",
       "9  Physician  0.023820"
      ]
     },
     "execution_count": 23,
     "metadata": {},
     "output_type": "execute_result"
    }
   ],
   "source": [
    "centrality_pr = nx.pagerank(graph, weight = \"weight\")\n",
    "print(f\"\\n Top {top_count} Reddit Users by Pagerank\")\n",
    "\n",
    "page_rank_user = []\n",
    "pagerank_df = pd.DataFrame(centrality_metrics(page_rank_user,centrality_pr))\n",
    "pagerank_df = pagerank_df.rename(columns={\"measure\": \"Pagerank\"})\n",
    "pagerank_df.head(10)"
   ]
  },
  {
   "cell_type": "code",
   "execution_count": 24,
   "id": "9857ac7e-0be3-441e-a5cb-9bfa9be30331",
   "metadata": {},
   "outputs": [
    {
     "name": "stdout",
     "output_type": "stream",
     "text": [
      "\n",
      " Top 10 Reddit Users by Betweenness\n"
     ]
    },
    {
     "data": {
      "text/html": [
       "<div>\n",
       "<style scoped>\n",
       "    .dataframe tbody tr th:only-of-type {\n",
       "        vertical-align: middle;\n",
       "    }\n",
       "\n",
       "    .dataframe tbody tr th {\n",
       "        vertical-align: top;\n",
       "    }\n",
       "\n",
       "    .dataframe thead th {\n",
       "        text-align: right;\n",
       "    }\n",
       "</style>\n",
       "<table border=\"1\" class=\"dataframe\">\n",
       "  <thead>\n",
       "    <tr style=\"text-align: right;\">\n",
       "      <th></th>\n",
       "      <th>Flair</th>\n",
       "      <th>Betweenness</th>\n",
       "    </tr>\n",
       "  </thead>\n",
       "  <tbody>\n",
       "    <tr>\n",
       "      <th>0</th>\n",
       "      <td>Layperson</td>\n",
       "      <td>0.180915</td>\n",
       "    </tr>\n",
       "    <tr>\n",
       "      <th>1</th>\n",
       "      <td>Layperson</td>\n",
       "      <td>0.114198</td>\n",
       "    </tr>\n",
       "    <tr>\n",
       "      <th>2</th>\n",
       "      <td>Nurse</td>\n",
       "      <td>0.104115</td>\n",
       "    </tr>\n",
       "    <tr>\n",
       "      <th>3</th>\n",
       "      <td>Layperson</td>\n",
       "      <td>0.095058</td>\n",
       "    </tr>\n",
       "    <tr>\n",
       "      <th>4</th>\n",
       "      <td>Layperson</td>\n",
       "      <td>0.082942</td>\n",
       "    </tr>\n",
       "    <tr>\n",
       "      <th>5</th>\n",
       "      <td>Layperson</td>\n",
       "      <td>0.053894</td>\n",
       "    </tr>\n",
       "    <tr>\n",
       "      <th>6</th>\n",
       "      <td>Layperson</td>\n",
       "      <td>0.041064</td>\n",
       "    </tr>\n",
       "    <tr>\n",
       "      <th>7</th>\n",
       "      <td>Layperson</td>\n",
       "      <td>0.039425</td>\n",
       "    </tr>\n",
       "    <tr>\n",
       "      <th>8</th>\n",
       "      <td>Layperson</td>\n",
       "      <td>0.031659</td>\n",
       "    </tr>\n",
       "    <tr>\n",
       "      <th>9</th>\n",
       "      <td>Layperson</td>\n",
       "      <td>0.026584</td>\n",
       "    </tr>\n",
       "  </tbody>\n",
       "</table>\n",
       "</div>"
      ],
      "text/plain": [
       "       Flair  Betweenness\n",
       "0  Layperson     0.180915\n",
       "1  Layperson     0.114198\n",
       "2      Nurse     0.104115\n",
       "3  Layperson     0.095058\n",
       "4  Layperson     0.082942\n",
       "5  Layperson     0.053894\n",
       "6  Layperson     0.041064\n",
       "7  Layperson     0.039425\n",
       "8  Layperson     0.031659\n",
       "9  Layperson     0.026584"
      ]
     },
     "execution_count": 24,
     "metadata": {},
     "output_type": "execute_result"
    }
   ],
   "source": [
    "centrality_btw = nx.betweenness_centrality(graph, k = 20)\n",
    "print(f\"\\n Top {top_count} Reddit Users by Betweenness\")\n",
    "\n",
    "betweeness_user = []\n",
    "betweenness_df = pd.DataFrame(centrality_metrics(betweeness_user, centrality_btw))\n",
    "betweenness_df = betweenness_df.rename(columns={\"measure\": \"Betweenness\"})\n",
    "betweenness_df.head(10)"
   ]
  },
  {
   "cell_type": "code",
   "execution_count": null,
   "id": "cdfb2dca-9eaa-4654-9a8e-5e1d73281f23",
   "metadata": {},
   "outputs": [],
   "source": []
  }
 ],
 "metadata": {
  "kernelspec": {
   "display_name": "Python 3 (ipykernel)",
   "language": "python",
   "name": "python3"
  },
  "language_info": {
   "codemirror_mode": {
    "name": "ipython",
    "version": 3
   },
   "file_extension": ".py",
   "mimetype": "text/x-python",
   "name": "python",
   "nbconvert_exporter": "python",
   "pygments_lexer": "ipython3",
   "version": "3.12.4"
  }
 },
 "nbformat": 4,
 "nbformat_minor": 5
}
